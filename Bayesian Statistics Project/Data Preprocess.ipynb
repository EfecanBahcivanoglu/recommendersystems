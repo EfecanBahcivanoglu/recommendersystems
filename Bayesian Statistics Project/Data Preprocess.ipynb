{
 "cells": [
  {
   "cell_type": "code",
   "execution_count": 17,
   "id": "07b426fd",
   "metadata": {},
   "outputs": [],
   "source": [
    "import pandas as pd\n",
    "import numpy as np\n",
    "import math\n",
    "import os"
   ]
  },
  {
   "cell_type": "code",
   "execution_count": 41,
   "id": "b12b01ce",
   "metadata": {},
   "outputs": [],
   "source": [
    "data = pd.read_csv('ratings.csv')"
   ]
  },
  {
   "cell_type": "code",
   "execution_count": 42,
   "id": "319b83c2",
   "metadata": {},
   "outputs": [],
   "source": [
    "data.drop(columns = ['Unnamed: 0', 'Timestamp'], inplace = True)"
   ]
  },
  {
   "cell_type": "code",
   "execution_count": 47,
   "id": "3393d034",
   "metadata": {},
   "outputs": [],
   "source": [
    "data['Rating'] = data['Rating'].round().astype(int)"
   ]
  },
  {
   "cell_type": "code",
   "execution_count": 44,
   "id": "0fa10172",
   "metadata": {},
   "outputs": [],
   "source": [
    "#data['Rating'] = data['Rating'] * 1\n",
    "#data['Rating'] = data['Rating'].astype('Int64')"
   ]
  },
  {
   "cell_type": "code",
   "execution_count": 48,
   "id": "bc6d7e8c",
   "metadata": {},
   "outputs": [],
   "source": [
    "unique_groups = data['UserID'].unique()\n",
    "num_groups = len(unique_groups)\n",
    "groups_per_sample = math.ceil(num_groups / 10)\n",
    "\n",
    "subsamples = []\n",
    "\n",
    "for i in range(10):\n",
    "    sampled_groups = np.random.choice(unique_groups, groups_per_sample, replace=False)\n",
    "    subsample = data[data['UserID'].isin(sampled_groups)]\n",
    "    subsamples.append(subsample)"
   ]
  },
  {
   "cell_type": "code",
   "execution_count": 49,
   "id": "6cce05a7",
   "metadata": {},
   "outputs": [],
   "source": [
    "for i, subsample in enumerate(subsamples, 1):\n",
    "    file_name = f\"unique_userid_sample_{i}.csv\"\n",
    "    subsample.to_csv(file_name, index=False)"
   ]
  },
  {
   "cell_type": "code",
   "execution_count": null,
   "id": "c3f4bcbc",
   "metadata": {},
   "outputs": [],
   "source": []
  }
 ],
 "metadata": {
  "kernelspec": {
   "display_name": "Python 3 (ipykernel)",
   "language": "python",
   "name": "python3"
  },
  "language_info": {
   "codemirror_mode": {
    "name": "ipython",
    "version": 3
   },
   "file_extension": ".py",
   "mimetype": "text/x-python",
   "name": "python",
   "nbconvert_exporter": "python",
   "pygments_lexer": "ipython3",
   "version": "3.10.9"
  }
 },
 "nbformat": 4,
 "nbformat_minor": 5
}
